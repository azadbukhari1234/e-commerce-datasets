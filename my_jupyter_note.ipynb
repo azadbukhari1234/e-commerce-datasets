{
 "cells": [
  {
   "cell_type": "markdown",
   "id": "9b58b780",
   "metadata": {},
   "source": [
    "# Data cleaning for e-commerce datasets refresh"
   ]
  },
  {
   "cell_type": "code",
   "execution_count": 49,
   "id": "d2491960",
   "metadata": {},
   "outputs": [],
   "source": [
    "import pandas as pd\n",
    "import numpy as np"
   ]
  },
  {
   "cell_type": "code",
   "execution_count": 50,
   "id": "d5e2ab3a",
   "metadata": {},
   "outputs": [],
   "source": [
    "data = {\n",
    "    'order_id': [1001, 1002, 1003, 1004, 1004, 1005, 1006, 1007],\n",
    "    'customer_name': ['John Doe', 'Jane Smith', None, 'Alice Brown', 'Alice Brown', 'Bob Wilson', 'Emma Davis', np.nan],\n",
    "    'product_name': ['Laptop', 'Phone', 'Tablet', 'Headphones', 'Headphones', 'Mouse', 'Keyboard', 'Laptop'],\n",
    "    'order_date': ['2023-10-01', '2023-10-02', '2023-10-03', 'invalid_date', '2023-10-04', '2023-10-05', '2023-10-06', '2023-10-07'],\n",
    "    'quantity': [1, 2, np.nan, 3, 3, 0, 2, 1],\n",
    "    'price': ['$999.99', '$599.99', '$299.99', None, '$49.99', '$19.99', '$79.99', '$999.99'],\n",
    "    'customer_email': ['john@example.com', 'jane.smith@example.com', 'alice@', 'alice.brown@example.com', 'alice.brown@example.com', None, 'emma.davis@example.com', 'john@example.com']\n",
    "}\n",
    "\n",
    "df = pd.DataFrame(data)"
   ]
  },
  {
   "cell_type": "code",
   "execution_count": 51,
   "id": "a4622746",
   "metadata": {},
   "outputs": [
    {
     "name": "stdout",
     "output_type": "stream",
     "text": [
      "Original Dataset:\n",
      "   order_id customer_name product_name    order_date  quantity    price  \\\n",
      "0      1001      John Doe       Laptop    2023-10-01       1.0  $999.99   \n",
      "1      1002    Jane Smith        Phone    2023-10-02       2.0  $599.99   \n",
      "2      1003          None       Tablet    2023-10-03       NaN  $299.99   \n",
      "3      1004   Alice Brown   Headphones  invalid_date       3.0     None   \n",
      "4      1004   Alice Brown   Headphones    2023-10-04       3.0   $49.99   \n",
      "5      1005    Bob Wilson        Mouse    2023-10-05       0.0   $19.99   \n",
      "6      1006    Emma Davis     Keyboard    2023-10-06       2.0   $79.99   \n",
      "7      1007           NaN       Laptop    2023-10-07       1.0  $999.99   \n",
      "\n",
      "            customer_email  \n",
      "0         john@example.com  \n",
      "1   jane.smith@example.com  \n",
      "2                   alice@  \n",
      "3  alice.brown@example.com  \n",
      "4  alice.brown@example.com  \n",
      "5                     None  \n",
      "6   emma.davis@example.com  \n",
      "7         john@example.com  \n"
     ]
    }
   ],
   "source": [
    "df.to_csv('e-commerce_data.csv', index=False)\n",
    "print(\"Original Dataset:\")\n",
    "print(df)"
   ]
  },
  {
   "cell_type": "markdown",
   "id": "f19a8370",
   "metadata": {},
   "source": [
    "// Data Cleaning"
   ]
  },
  {
   "cell_type": "markdown",
   "id": "686a13f8",
   "metadata": {},
   "source": [
    "Missing value: \n",
    "replace none and np.nan in 'customer_name' with 'Unknown'"
   ]
  },
  {
   "cell_type": "code",
   "execution_count": 52,
   "id": "b6288700",
   "metadata": {},
   "outputs": [],
   "source": [
    "df['customer_name'] = df['customer_name'].fillna('Unknown')"
   ]
  },
  {
   "cell_type": "markdown",
   "id": "3dcb90ad",
   "metadata": {},
   "source": [
    "Missing Value: replace missing 'quantity with median quantity"
   ]
  },
  {
   "cell_type": "code",
   "execution_count": 53,
   "id": "2606293e",
   "metadata": {},
   "outputs": [],
   "source": [
    "df['quantity'] = df['quantity'].fillna(df['quantity'].median())"
   ]
  },
  {
   "cell_type": "markdown",
   "id": "984d6884",
   "metadata": {},
   "source": [
    "Replace missing 'price' with the median price (after converting to numeric)"
   ]
  },
  {
   "cell_type": "code",
   "execution_count": 54,
   "id": "a521fafc",
   "metadata": {},
   "outputs": [],
   "source": [
    "df['price'] = df['price'].str.replace('$', '', regex=False)\n",
    "df['price'] = pd.to_numeric(df['price'], errors='coerce')\n",
    "df['price'] = df['price'].fillna(df['price'].median())"
   ]
  },
  {
   "cell_type": "markdown",
   "id": "4780ee17",
   "metadata": {},
   "source": [
    "Missing value: replace customer email with 'no_email@example.com'"
   ]
  },
  {
   "cell_type": "code",
   "execution_count": 55,
   "id": "55246b38",
   "metadata": {},
   "outputs": [],
   "source": [
    "df['customer_email'] = df['customer_email'].fillna('no_email@example.com')"
   ]
  },
  {
   "cell_type": "markdown",
   "id": "1970bb2e",
   "metadata": {},
   "source": [
    "// Fix data type"
   ]
  },
  {
   "cell_type": "markdown",
   "id": "16de101e",
   "metadata": {},
   "source": [
    "Convert 'order_date' to datetime, invalid entries become NaT"
   ]
  },
  {
   "cell_type": "code",
   "execution_count": 56,
   "id": "6dbf751e",
   "metadata": {},
   "outputs": [],
   "source": [
    "df['order_date'] = pd.to_datetime(df['order_date'], errors='coerce')"
   ]
  },
  {
   "cell_type": "markdown",
   "id": "063a28e5",
   "metadata": {},
   "source": [
    "Replace NaT in 'order_date' with a default date (e.g., today's date)"
   ]
  },
  {
   "cell_type": "code",
   "execution_count": 57,
   "id": "f5ebcee1",
   "metadata": {},
   "outputs": [],
   "source": [
    "df['order_date'] = df['order_date'].fillna(pd.Timestamp('2023-01-01'))"
   ]
  },
  {
   "cell_type": "markdown",
   "id": "71666cdb",
   "metadata": {},
   "source": [
    "ensure the 'quantity' is integer"
   ]
  },
  {
   "cell_type": "code",
   "execution_count": 58,
   "id": "745fb579",
   "metadata": {},
   "outputs": [],
   "source": [
    "df['quantity'] = df['quantity'].astype(int)"
   ]
  },
  {
   "cell_type": "markdown",
   "id": "185bcde1",
   "metadata": {},
   "source": [
    "ensure 'price' is float"
   ]
  },
  {
   "cell_type": "code",
   "execution_count": 59,
   "id": "9080ca2e",
   "metadata": {},
   "outputs": [],
   "source": [
    "df['price'] = df['price'].astype(float)"
   ]
  },
  {
   "cell_type": "markdown",
   "id": "a91bca72",
   "metadata": {},
   "source": [
    "// Remove duplicates"
   ]
  },
  {
   "cell_type": "markdown",
   "id": "db9ae602",
   "metadata": {},
   "source": [
    "remove on all rows based on all column"
   ]
  },
  {
   "cell_type": "code",
   "execution_count": 60,
   "id": "1eb646a3",
   "metadata": {},
   "outputs": [],
   "source": [
    "df=df.drop_duplicates()"
   ]
  },
  {
   "cell_type": "markdown",
   "id": "45353f77",
   "metadata": {},
   "source": [
    "Remove duplicates based on 'order_id' (keep first occurrence)"
   ]
  },
  {
   "cell_type": "code",
   "execution_count": 61,
   "id": "b1fbfbd3",
   "metadata": {},
   "outputs": [],
   "source": [
    "df=df.drop_duplicates(subset=['order_id'], keep='first')"
   ]
  },
  {
   "cell_type": "markdown",
   "id": "92cb0b10",
   "metadata": {},
   "source": [
    "Standardize 'customer_name' to title case"
   ]
  },
  {
   "cell_type": "code",
   "execution_count": 62,
   "id": "7f4c6ace",
   "metadata": {},
   "outputs": [],
   "source": [
    "df['customer_name'] = df['customer_name'].str.title()"
   ]
  },
  {
   "cell_type": "markdown",
   "id": "bcc3caac",
   "metadata": {},
   "source": [
    "Validate and clean 'customer_email' (basic check for '@' symbol)"
   ]
  },
  {
   "cell_type": "code",
   "execution_count": 63,
   "id": "13732a6a",
   "metadata": {},
   "outputs": [],
   "source": [
    "df['customer_email'] = df['customer_email'].apply(lambda x: x if '@' in x else 'invalid_email@example.com')"
   ]
  },
  {
   "cell_type": "markdown",
   "id": "3a57bf1a",
   "metadata": {},
   "source": [
    "Display the clean datasets"
   ]
  },
  {
   "cell_type": "code",
   "execution_count": 64,
   "id": "3b0cb86b",
   "metadata": {},
   "outputs": [
    {
     "name": "stdout",
     "output_type": "stream",
     "text": [
      "\n",
      "Cleaned Datasets:\n",
      "   order_id customer_name product_name order_date  quantity   price  \\\n",
      "0      1001      John Doe       Laptop 2023-10-01         1  999.99   \n",
      "1      1002    Jane Smith        Phone 2023-10-02         2  599.99   \n",
      "2      1003       Unknown       Tablet 2023-10-03         2  299.99   \n",
      "3      1004   Alice Brown   Headphones 2023-01-01         3  299.99   \n",
      "5      1005    Bob Wilson        Mouse 2023-10-05         0   19.99   \n",
      "6      1006    Emma Davis     Keyboard 2023-10-06         2   79.99   \n",
      "7      1007       Unknown       Laptop 2023-10-07         1  999.99   \n",
      "\n",
      "            customer_email  \n",
      "0         john@example.com  \n",
      "1   jane.smith@example.com  \n",
      "2                   alice@  \n",
      "3  alice.brown@example.com  \n",
      "5     no_email@example.com  \n",
      "6   emma.davis@example.com  \n",
      "7         john@example.com  \n"
     ]
    }
   ],
   "source": [
    "print(\"\\nCleaned Datasets:\")\n",
    "print(df)"
   ]
  },
  {
   "cell_type": "markdown",
   "id": "fe96d279",
   "metadata": {},
   "source": [
    "Save the Cleaned datasets"
   ]
  },
  {
   "cell_type": "code",
   "execution_count": 65,
   "id": "5429aff8",
   "metadata": {},
   "outputs": [
    {
     "name": "stdout",
     "output_type": "stream",
     "text": [
      "\n",
      "Cleaned datasets saved as 'ecommerce_data_cleaned.csv'\n"
     ]
    }
   ],
   "source": [
    "df.to_csv('ecommerce_data_cleaned.csv', index=False)\n",
    "print(\"\\nCleaned datasets saved as 'ecommerce_data_cleaned.csv'\")"
   ]
  }
 ],
 "metadata": {
  "kernelspec": {
   "display_name": "venv",
   "language": "python",
   "name": "python3"
  },
  "language_info": {
   "codemirror_mode": {
    "name": "ipython",
    "version": 3
   },
   "file_extension": ".py",
   "mimetype": "text/x-python",
   "name": "python",
   "nbconvert_exporter": "python",
   "pygments_lexer": "ipython3",
   "version": "3.12.10"
  }
 },
 "nbformat": 4,
 "nbformat_minor": 5
}
